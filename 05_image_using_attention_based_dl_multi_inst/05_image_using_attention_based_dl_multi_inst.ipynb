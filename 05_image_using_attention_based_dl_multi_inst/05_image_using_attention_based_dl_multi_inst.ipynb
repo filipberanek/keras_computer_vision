{
 "cells": [
  {
   "cell_type": "markdown",
   "metadata": {
    "id": "48EaWYUYXHaV"
   },
   "source": [
    "# Classification using Attention-based Deep Multiple Instance Learning (MIL).\n",
    "\n",
    "**Author:** [Mohamad Jaber](https://www.linkedin.com/in/mohamadjaber1/)<br>\n",
    "**Date created:** 2021/08/16<br>\n",
    "**Last modified:** 2021/11/25<br>\n",
    "**Description:** MIL approach to classify bags of instances and get their individual instance score."
   ]
  },
  {
   "cell_type": "markdown",
   "metadata": {
    "id": "bhdHivdpXHaY"
   },
   "source": [
    "## Introduction\n",
    "\n",
    "### What is Multiple Instance Learning (MIL)?\n",
    "\n",
    "Usually, with supervised learning algorithms, the learner receives labels for a set of\n",
    "instances. In the case of MIL, the learner receives labels for a set of bags, each of which\n",
    "contains a set of instances. The bag is labeled positive if it contains at least\n",
    "one positive instance, and negative if it does not contain any.\n",
    "\n",
    "### Motivation\n",
    "\n",
    "It is often assumed in image classification tasks that each image clearly represents a\n",
    "class label. In medical imaging (e.g. computational pathology, etc.) an *entire image*\n",
    "is represented by a single class label (cancerous/non-cancerous) or a region of interest\n",
    "could be given. However, one will be interested in knowing which patterns in the image\n",
    "is actually causing it to belong to that class. In this context, the image(s) will be\n",
    "divided and the subimages will form the bag of instances.\n",
    "\n",
    "Therefore, the goals are to:\n",
    "\n",
    "1. Learn a model to predict a class label for a bag of instances.\n",
    "2. Find out which instances within the bag caused a position class label\n",
    "prediction.\n",
    "\n",
    "### Implementation\n",
    "\n",
    "The following steps describe how the model works:\n",
    "\n",
    "1. The feature extractor layers extract feature embeddings.\n",
    "2. The embeddings are fed into the MIL attention layer to get\n",
    "the attention scores. The layer is designed as permutation-invariant.\n",
    "3. Input features and their corresponding attention scores are multiplied together.\n",
    "4. The resulting output is passed to a softmax function for classification.\n",
    "\n",
    "### References\n",
    "\n",
    "- [Attention-based Deep Multiple Instance Learning](https://arxiv.org/abs/1802.04712).\n",
    "- Some of the attention operator code implementation was inspired from https://github.com/utayao/Atten_Deep_MIL.\n",
    "- Imbalanced data [tutorial](https://www.tensorflow.org/tutorials/structured_data/imbalanced_data)\n",
    "by TensorFlow."
   ]
  },
  {
   "cell_type": "markdown",
   "metadata": {
    "id": "0M7X63DtXHaZ"
   },
   "source": [
    "## Setup"
   ]
  },
  {
   "cell_type": "code",
   "execution_count": 7,
   "metadata": {
    "id": "CPFK28ZqXHaZ"
   },
   "outputs": [],
   "source": [
    "import numpy as np\n",
    "import tensorflow as tf\n",
    "import keras\n",
    "from keras import layers\n",
    "from tqdm import tqdm\n",
    "from matplotlib import pyplot as plt\n",
    "\n",
    "#plt.style.use(\"ggplot\")"
   ]
  },
  {
   "cell_type": "markdown",
   "metadata": {
    "id": "sMhGk4gKXHaa"
   },
   "source": [
    "## Create dataset\n",
    "\n",
    "We will create a set of bags and assign their labels according to their contents.\n",
    "If at least one positive instance\n",
    "is available in a bag, the bag is considered as a positive bag. If it does not contain any\n",
    "positive instance, the bag will be considered as negative.\n",
    "\n",
    "### Configuration parameters\n",
    "\n",
    "- `POSITIVE_CLASS`: The desired class to be kept in the positive bag.\n",
    "- `BAG_COUNT`: The number of training bags.\n",
    "- `VAL_BAG_COUNT`: The number of validation bags.\n",
    "- `BAG_SIZE`: The number of instances in a bag.\n",
    "- `PLOT_SIZE`: The number of bags to plot.\n",
    "- `ENSEMBLE_AVG_COUNT`: The number of models to create and average together. (Optional:\n",
    "often results in better performance - set to 1 for single model)"
   ]
  },
  {
   "cell_type": "code",
   "execution_count": 8,
   "metadata": {
    "id": "ROfJ9djgXHaa"
   },
   "outputs": [],
   "source": [
    "POSITIVE_CLASS = 1\n",
    "BAG_COUNT = 1000\n",
    "VAL_BAG_COUNT = 300\n",
    "BAG_SIZE = 3\n",
    "PLOT_SIZE = 3\n",
    "ENSEMBLE_AVG_COUNT = 1"
   ]
  },
  {
   "cell_type": "markdown",
   "metadata": {
    "id": "SK8MJ78CXHab"
   },
   "source": [
    "### Prepare bags\n",
    "\n",
    "Since the attention operator is a permutation-invariant operator, an instance with a\n",
    "positive class label is randomly placed among the instances in the positive bag."
   ]
  },
  {
   "cell_type": "code",
   "execution_count": 9,
   "metadata": {
    "id": "HlKS-77VXHab"
   },
   "outputs": [
    {
     "name": "stdout",
     "output_type": "stream",
     "text": [
      "Positive bags: 291\n",
      "Negative bags: 709\n",
      "Positive bags: 91\n",
      "Negative bags: 209\n"
     ]
    }
   ],
   "source": [
    "\n",
    "def create_bags(input_data, input_labels, positive_class, bag_count, instance_count):\n",
    "    # Set up bags.\n",
    "    bags = []\n",
    "    bag_labels = []\n",
    "\n",
    "    # Normalize input data.\n",
    "    input_data = np.divide(input_data, 255.0)\n",
    "\n",
    "    # Count positive samples.\n",
    "    count = 0\n",
    "\n",
    "    for _ in range(bag_count):\n",
    "        # Pick a fixed size random subset of samples.\n",
    "        index = np.random.choice(input_data.shape[0], instance_count, replace=False)\n",
    "        instances_data = input_data[index]\n",
    "        instances_labels = input_labels[index]\n",
    "\n",
    "        # By default, all bags are labeled as 0.\n",
    "        bag_label = 0\n",
    "\n",
    "        # Check if there is at least a positive class in the bag.\n",
    "        if positive_class in instances_labels:\n",
    "            # Positive bag will be labeled as 1.\n",
    "            bag_label = 1\n",
    "            count += 1\n",
    "\n",
    "        bags.append(instances_data)\n",
    "        bag_labels.append(np.array([bag_label]))\n",
    "\n",
    "    print(f\"Positive bags: {count}\")\n",
    "    print(f\"Negative bags: {bag_count - count}\")\n",
    "\n",
    "    return (list(np.swapaxes(bags, 0, 1)), np.array(bag_labels))\n",
    "\n",
    "\n",
    "# Load the MNIST dataset.\n",
    "(x_train, y_train), (x_val, y_val) = keras.datasets.mnist.load_data()\n",
    "\n",
    "# Create training data.\n",
    "train_data, train_labels = create_bags(\n",
    "    x_train, y_train, POSITIVE_CLASS, BAG_COUNT, BAG_SIZE\n",
    ")\n",
    "\n",
    "# Create validation data.\n",
    "val_data, val_labels = create_bags(\n",
    "    x_val, y_val, POSITIVE_CLASS, VAL_BAG_COUNT, BAG_SIZE\n",
    ")"
   ]
  },
  {
   "cell_type": "markdown",
   "metadata": {
    "id": "L59fJb19XHab"
   },
   "source": [
    "## Create the model\n",
    "\n",
    "We will now build the attention layer, prepare some utilities, then build and train the\n",
    "entire model.\n",
    "\n",
    "### Attention operator implementation\n",
    "\n",
    "The output size of this layer is decided by the size of a single bag.\n",
    "\n",
    "The attention mechanism uses a weighted average of instances in a bag, in which the sum\n",
    "of the weights must equal to 1 (invariant of the bag size).\n",
    "\n",
    "The weight matrices (parameters) are **w** and **v**. To include positive and negative\n",
    "values, hyperbolic tangent element-wise non-linearity is utilized.\n",
    "\n",
    "A **Gated attention mechanism** can be used to deal with complex relations. Another weight\n",
    "matrix, **u**, is added to the computation.\n",
    "A sigmoid non-linearity is used to overcome approximately linear behavior for *x* ∈ [−1, 1]\n",
    "by hyperbolic tangent non-linearity."
   ]
  },
  {
   "cell_type": "code",
   "execution_count": 10,
   "metadata": {
    "id": "crLVFqd1XHac"
   },
   "outputs": [],
   "source": [
    "\n",
    "class MILAttentionLayer(layers.Layer):\n",
    "    \"\"\"Implementation of the attention-based Deep MIL layer.\n",
    "\n",
    "    Args:\n",
    "      weight_params_dim: Positive Integer. Dimension of the weight matrix.\n",
    "      kernel_initializer: Initializer for the `kernel` matrix.\n",
    "      kernel_regularizer: Regularizer function applied to the `kernel` matrix.\n",
    "      use_gated: Boolean, whether or not to use the gated mechanism.\n",
    "\n",
    "    Returns:\n",
    "      List of 2D tensors with BAG_SIZE length.\n",
    "      The tensors are the attention scores after softmax with shape `(batch_size, 1)`.\n",
    "    \"\"\"\n",
    "\n",
    "    def __init__(\n",
    "        self,\n",
    "        weight_params_dim,\n",
    "        kernel_initializer=\"glorot_uniform\",\n",
    "        kernel_regularizer=None,\n",
    "        use_gated=False,\n",
    "        **kwargs,\n",
    "    ):\n",
    "        super().__init__(**kwargs)\n",
    "\n",
    "        self.weight_params_dim = weight_params_dim\n",
    "        self.use_gated = use_gated\n",
    "\n",
    "        self.kernel_initializer = keras.initializers.get(kernel_initializer)\n",
    "        self.kernel_regularizer = keras.regularizers.get(kernel_regularizer)\n",
    "\n",
    "        self.v_init = self.kernel_initializer\n",
    "        self.w_init = self.kernel_initializer\n",
    "        self.u_init = self.kernel_initializer\n",
    "\n",
    "        self.v_regularizer = self.kernel_regularizer\n",
    "        self.w_regularizer = self.kernel_regularizer\n",
    "        self.u_regularizer = self.kernel_regularizer\n",
    "\n",
    "    def build(self, input_shape):\n",
    "        # Input shape.\n",
    "        # List of 2D tensors with shape: (batch_size, input_dim).\n",
    "        input_dim = input_shape[0][1]\n",
    "\n",
    "        self.v_weight_params = self.add_weight(\n",
    "            shape=(input_dim, self.weight_params_dim),\n",
    "            initializer=self.v_init,\n",
    "            name=\"v\",\n",
    "            regularizer=self.v_regularizer,\n",
    "            trainable=True,\n",
    "        )\n",
    "\n",
    "        self.w_weight_params = self.add_weight(\n",
    "            shape=(self.weight_params_dim, 1),\n",
    "            initializer=self.w_init,\n",
    "            name=\"w\",\n",
    "            regularizer=self.w_regularizer,\n",
    "            trainable=True,\n",
    "        )\n",
    "\n",
    "        if self.use_gated:\n",
    "            self.u_weight_params = self.add_weight(\n",
    "                shape=(input_dim, self.weight_params_dim),\n",
    "                initializer=self.u_init,\n",
    "                name=\"u\",\n",
    "                regularizer=self.u_regularizer,\n",
    "                trainable=True,\n",
    "            )\n",
    "        else:\n",
    "            self.u_weight_params = None\n",
    "\n",
    "        self.input_built = True\n",
    "\n",
    "    def call(self, inputs):\n",
    "        # Assigning variables from the number of inputs.\n",
    "        instances = [self.compute_attention_scores(instance) for instance in inputs]\n",
    "\n",
    "        # Stack instances into a single tensor.\n",
    "        instances = tf.stack(instances)\n",
    "\n",
    "        # Apply softmax over instances such that the output summation is equal to 1.\n",
    "        alpha = tf.softmax(instances, axis=0)\n",
    "\n",
    "        # Split to recreate the same array of tensors we had as inputs.\n",
    "        return [alpha[i] for i in range(alpha.shape[0])]\n",
    "\n",
    "    def compute_attention_scores(self, instance):\n",
    "        # Reserve in-case \"gated mechanism\" used.\n",
    "        original_instance = instance\n",
    "\n",
    "        # tanh(v*h_k^T)\n",
    "        instance = tf.tanh(tf.tensordot(instance, self.v_weight_params, axes=1))\n",
    "\n",
    "        # for learning non-linear relations efficiently.\n",
    "        if self.use_gated:\n",
    "            instance = instance * tf.sigmoid(\n",
    "                opstf.tensordot(original_instance, self.u_weight_params, axes=1)\n",
    "            )\n",
    "\n",
    "        # w^T*(tanh(v*h_k^T)) / w^T*(tanh(v*h_k^T)*sigmoid(u*h_k^T))\n",
    "        return tf.tensordot(instance, self.w_weight_params, axes=1)\n"
   ]
  },
  {
   "cell_type": "markdown",
   "metadata": {
    "id": "p9aX485KXHac"
   },
   "source": [
    "## Visualizer tool\n",
    "\n",
    "Plot the number of bags (given by `PLOT_SIZE`) with respect to the class.\n",
    "\n",
    "Moreover, if activated, the class label prediction with its associated instance score\n",
    "for each bag (after the model has been trained) can be seen."
   ]
  },
  {
   "cell_type": "code",
   "execution_count": 12,
   "metadata": {
    "id": "G3JS9_kMXHac"
   },
   "outputs": [
    {
     "name": "stdout",
     "output_type": "stream",
     "text": [
      "The bag class label is positive\n",
      "Bag number: 1\n"
     ]
    },
    {
     "data": {
      "image/png": "[encoded data removed]",
      "text/plain": [
       "<Figure size 800x800 with 3 Axes>"
      ]
     },
     "metadata": {},
     "output_type": "display_data"
    },
    {
     "name": "stdout",
     "output_type": "stream",
     "text": [
      "Bag number: 14\n"
     ]
    },
    {
     "data": {
      "image/png": "[encoded data removed]",
      "text/plain": [
       "<Figure size 800x800 with 3 Axes>"
      ]
     },
     "metadata": {},
     "output_type": "display_data"
    },
    {
     "name": "stdout",
     "output_type": "stream",
     "text": [
      "Bag number: 17\n"
     ]
    },
    {
     "data": {
      "image/png": "[encoded data removed]",
      "text/plain": [
       "<Figure size 800x800 with 3 Axes>"
      ]
     },
     "metadata": {},
     "output_type": "display_data"
    },
    {
     "name": "stdout",
     "output_type": "stream",
     "text": [
      "The bag class label is negative\n",
      "Bag number: 0\n"
     ]
    },
    {
     "data": {
      "image/png": "[encoded data removed]",
      "text/plain": [
       "<Figure size 800x800 with 3 Axes>"
      ]
     },
     "metadata": {},
     "output_type": "display_data"
    },
    {
     "name": "stdout",
     "output_type": "stream",
     "text": [
      "Bag number: 2\n"
     ]
    },
    {
     "data": {
      "image/png": "[encoded data removed]",
      "text/plain": [
       "<Figure size 800x800 with 3 Axes>"
      ]
     },
     "metadata": {},
     "output_type": "display_data"
    },
    {
     "name": "stdout",
     "output_type": "stream",
     "text": [
      "Bag number: 3\n"
     ]
    },
    {
     "data": {
      "image/png": "[encoded data removed]",
      "text/plain": [
       "<Figure size 800x800 with 3 Axes>"
      ]
     },
     "metadata": {},
     "output_type": "display_data"
    }
   ],
   "source": [
    "\n",
    "def plot(data, labels, bag_class, predictions=None, attention_weights=None):\n",
    "    \"\"\" \"Utility for plotting bags and attention weights.\n",
    "\n",
    "    Args:\n",
    "      data: Input data that contains the bags of instances.\n",
    "      labels: The associated bag labels of the input data.\n",
    "      bag_class: String name of the desired bag class.\n",
    "        The options are: \"positive\" or \"negative\".\n",
    "      predictions: Class labels model predictions.\n",
    "      If you don't specify anything, ground truth labels will be used.\n",
    "      attention_weights: Attention weights for each instance within the input data.\n",
    "      If you don't specify anything, the values won't be displayed.\n",
    "    \"\"\"\n",
    "    #return  ## TODO\n",
    "    labels = np.array(labels).reshape(-1)\n",
    "\n",
    "    if bag_class == \"positive\":\n",
    "        if predictions is not None:\n",
    "            labels = np.where(predictions.argmax(1) == 1)[0]\n",
    "            bags = np.array(data)[:, labels[0:PLOT_SIZE]]\n",
    "\n",
    "        else:\n",
    "            labels = np.where(labels == 1)[0]\n",
    "            bags = np.array(data)[:, labels[0:PLOT_SIZE]]\n",
    "\n",
    "    elif bag_class == \"negative\":\n",
    "        if predictions is not None:\n",
    "            labels = np.where(predictions.argmax(1) == 0)[0]\n",
    "            bags = np.array(data)[:, labels[0:PLOT_SIZE]]\n",
    "        else:\n",
    "            labels = np.where(labels == 0)[0]\n",
    "            bags = np.array(data)[:, labels[0:PLOT_SIZE]]\n",
    "\n",
    "    else:\n",
    "        print(f\"There is no class {bag_class}\")\n",
    "        return\n",
    "\n",
    "    print(f\"The bag class label is {bag_class}\")\n",
    "    for i in range(PLOT_SIZE):\n",
    "        figure = plt.figure(figsize=(8, 8))\n",
    "        print(f\"Bag number: {labels[i]}\")\n",
    "        for j in range(BAG_SIZE):\n",
    "            image = bags[j][i]\n",
    "            figure.add_subplot(1, BAG_SIZE, j + 1)\n",
    "            plt.grid(False)\n",
    "            if attention_weights is not None:\n",
    "                plt.title(np.around(attention_weights[labels[i]][j], 2))\n",
    "            plt.imshow(image)\n",
    "        plt.show()\n",
    "\n",
    "\n",
    "# Plot some of validation data bags per class.\n",
    "plot(val_data, val_labels, \"positive\")\n",
    "plot(val_data, val_labels, \"negative\")"
   ]
  },
  {
   "cell_type": "markdown",
   "metadata": {
    "id": "7zcnZhyOXHad"
   },
   "source": [
    "## Create model\n",
    "\n",
    "First we will create some embeddings per instance, invoke the attention operator and then\n",
    "use the softmax function to output the class probabilities."
   ]
  },
  {
   "cell_type": "code",
   "execution_count": 13,
   "metadata": {
    "id": "AFY_Z-jMXHad"
   },
   "outputs": [],
   "source": [
    "\n",
    "def create_model(instance_shape):\n",
    "    # Extract features from inputs.\n",
    "    inputs, embeddings = [], []\n",
    "    shared_dense_layer_1 = layers.Dense(128, activation=\"relu\")\n",
    "    shared_dense_layer_2 = layers.Dense(64, activation=\"relu\")\n",
    "    for _ in range(BAG_SIZE):\n",
    "        inp = layers.Input(instance_shape)\n",
    "        flatten = layers.Flatten()(inp)\n",
    "        dense_1 = shared_dense_layer_1(flatten)\n",
    "        dense_2 = shared_dense_layer_2(dense_1)\n",
    "        inputs.append(inp)\n",
    "        embeddings.append(dense_2)\n",
    "\n",
    "    # Invoke the attention layer.\n",
    "    alpha = MILAttentionLayer(\n",
    "        weight_params_dim=256,\n",
    "        kernel_regularizer=keras.regularizers.L2(0.01),\n",
    "        use_gated=True,\n",
    "        name=\"alpha\",\n",
    "    )(embeddings)\n",
    "\n",
    "    # Multiply attention weights with the input layers.\n",
    "    multiply_layers = [\n",
    "        layers.multiply([alpha[i], embeddings[i]]) for i in range(len(alpha))\n",
    "    ]\n",
    "\n",
    "    # Concatenate layers.\n",
    "    concat = layers.concatenate(multiply_layers, axis=1)\n",
    "\n",
    "    # Classification output node.\n",
    "    output = layers.Dense(2, activation=\"softmax\")(concat)\n",
    "\n",
    "    return keras.Model(inputs, output)\n"
   ]
  },
  {
   "cell_type": "markdown",
   "metadata": {
    "id": "u13Y-QWcXHad"
   },
   "source": [
    "## Class weights\n",
    "\n",
    "Since this kind of problem could simply turn into imbalanced data classification problem,\n",
    "class weighting should be considered.\n",
    "\n",
    "Let's say there are 1000 bags. There often could be cases were ~90 % of the bags do not\n",
    "contain any positive label and ~10 % do.\n",
    "Such data can be referred to as **Imbalanced data**.\n",
    "\n",
    "Using class weights, the model will tend to give a higher weight to the rare class."
   ]
  },
  {
   "cell_type": "code",
   "execution_count": 14,
   "metadata": {
    "id": "XBKy1EIJXHad"
   },
   "outputs": [],
   "source": [
    "\n",
    "def compute_class_weights(labels):\n",
    "    # Count number of postive and negative bags.\n",
    "    negative_count = len(np.where(labels == 0)[0])\n",
    "    positive_count = len(np.where(labels == 1)[0])\n",
    "    total_count = negative_count + positive_count\n",
    "\n",
    "    # Build class weight dictionary.\n",
    "    return {\n",
    "        0: (1 / negative_count) * (total_count / 2),\n",
    "        1: (1 / positive_count) * (total_count / 2),\n",
    "    }\n"
   ]
  },
  {
   "cell_type": "markdown",
   "metadata": {
    "id": "zsAJw4_CXHad"
   },
   "source": [
    "## Build and train model\n",
    "\n",
    "The model is built and trained in this section."
   ]
  },
  {
   "cell_type": "code",
   "execution_count": 15,
   "metadata": {
    "id": "16m701CUXHad"
   },
   "outputs": [
    {
     "name": "stderr",
     "output_type": "stream",
     "text": [
      "2024-01-10 18:15:09.606706: I external/local_xla/xla/stream_executor/cuda/cuda_executor.cc:901] successful NUMA node read from SysFS had negative value (-1), but there must be at least one NUMA node, so returning NUMA node zero. See more at https://github.com/torvalds/linux/blob/v6.0/Documentation/ABI/testing/sysfs-bus-pci#L344-L355\n",
      "2024-01-10 18:15:09.646727: I external/local_xla/xla/stream_executor/cuda/cuda_executor.cc:901] successful NUMA node read from SysFS had negative value (-1), but there must be at least one NUMA node, so returning NUMA node zero. See more at https://github.com/torvalds/linux/blob/v6.0/Documentation/ABI/testing/sysfs-bus-pci#L344-L355\n",
      "2024-01-10 18:15:09.647025: I external/local_xla/xla/stream_executor/cuda/cuda_executor.cc:901] successful NUMA node read from SysFS had negative value (-1), but there must be at least one NUMA node, so returning NUMA node zero. See more at https://github.com/torvalds/linux/blob/v6.0/Documentation/ABI/testing/sysfs-bus-pci#L344-L355\n",
      "2024-01-10 18:15:09.649552: I external/local_xla/xla/stream_executor/cuda/cuda_executor.cc:901] successful NUMA node read from SysFS had negative value (-1), but there must be at least one NUMA node, so returning NUMA node zero. See more at https://github.com/torvalds/linux/blob/v6.0/Documentation/ABI/testing/sysfs-bus-pci#L344-L355\n",
      "2024-01-10 18:15:09.649732: I external/local_xla/xla/stream_executor/cuda/cuda_executor.cc:901] successful NUMA node read from SysFS had negative value (-1), but there must be at least one NUMA node, so returning NUMA node zero. See more at https://github.com/torvalds/linux/blob/v6.0/Documentation/ABI/testing/sysfs-bus-pci#L344-L355\n",
      "2024-01-10 18:15:09.649875: I external/local_xla/xla/stream_executor/cuda/cuda_executor.cc:901] successful NUMA node read from SysFS had negative value (-1), but there must be at least one NUMA node, so returning NUMA node zero. See more at https://github.com/torvalds/linux/blob/v6.0/Documentation/ABI/testing/sysfs-bus-pci#L344-L355\n",
      "2024-01-10 18:15:09.739730: I external/local_xla/xla/stream_executor/cuda/cuda_executor.cc:901] successful NUMA node read from SysFS had negative value (-1), but there must be at least one NUMA node, so returning NUMA node zero. See more at https://github.com/torvalds/linux/blob/v6.0/Documentation/ABI/testing/sysfs-bus-pci#L344-L355\n",
      "2024-01-10 18:15:09.739977: I external/local_xla/xla/stream_executor/cuda/cuda_executor.cc:901] successful NUMA node read from SysFS had negative value (-1), but there must be at least one NUMA node, so returning NUMA node zero. See more at https://github.com/torvalds/linux/blob/v6.0/Documentation/ABI/testing/sysfs-bus-pci#L344-L355\n",
      "2024-01-10 18:15:09.740162: I external/local_xla/xla/stream_executor/cuda/cuda_executor.cc:901] successful NUMA node read from SysFS had negative value (-1), but there must be at least one NUMA node, so returning NUMA node zero. See more at https://github.com/torvalds/linux/blob/v6.0/Documentation/ABI/testing/sysfs-bus-pci#L344-L355\n",
      "2024-01-10 18:15:09.740333: I tensorflow/core/common_runtime/gpu/gpu_device.cc:1929] Created device /job:localhost/replica:0/task:0/device:GPU:0 with 5612 MB memory:  -> device: 0, name: NVIDIA GeForce RTX 4060 Laptop GPU, pci bus id: 0000:01:00.0, compute capability: 8.9\n",
      "/home/fberanek/Desktop/learning/keras/keras_computer_vision/venv/lib/python3.10/site-packages/keras/src/initializers/initializers.py:120: UserWarning: The initializer GlorotUniform is unseeded and being called multiple times, which will return identical values each time (even if the initializer is unseeded). Please update your code to provide a seed to the initializer, or avoid using the same initializer instance more than once.\n",
      "  warnings.warn(\n"
     ]
    },
    {
     "ename": "NameError",
     "evalue": "Exception encountered when calling layer \"alpha\" (type MILAttentionLayer).\n\nin user code:\n\n    File \"/tmp/ipykernel_14658/2678633605.py\", line 75, in call  *\n        instances = [self.compute_attention_scores(instance) for instance in inputs]\n    File \"/tmp/ipykernel_14658/2678633605.py\", line 95, in compute_attention_scores  *\n        instance = instance * tf.sigmoid(\n\n    NameError: name 'opstf' is not defined\n\n\nCall arguments received by layer \"alpha\" (type MILAttentionLayer):\n  • inputs=['tf.Tensor(shape=(None, 64), dtype=float32)', 'tf.Tensor(shape=(None, 64), dtype=float32)', 'tf.Tensor(shape=(None, 64), dtype=float32)']",
     "output_type": "error",
     "traceback": [
      "\u001b[0;31m---------------------------------------------------------------------------\u001b[0m",
      "\u001b[0;31mNameError\u001b[0m                                 Traceback (most recent call last)",
      "Cell \u001b[0;32mIn[15], line 53\u001b[0m\n\u001b[1;32m     51\u001b[0m \u001b[38;5;66;03m# Building model(s).\u001b[39;00m\n\u001b[1;32m     52\u001b[0m instance_shape \u001b[38;5;241m=\u001b[39m train_data[\u001b[38;5;241m0\u001b[39m][\u001b[38;5;241m0\u001b[39m]\u001b[38;5;241m.\u001b[39mshape\n\u001b[0;32m---> 53\u001b[0m models \u001b[38;5;241m=\u001b[39m [create_model(instance_shape) \u001b[38;5;28;01mfor\u001b[39;00m _ \u001b[38;5;129;01min\u001b[39;00m \u001b[38;5;28mrange\u001b[39m(ENSEMBLE_AVG_COUNT)]\n\u001b[1;32m     55\u001b[0m \u001b[38;5;66;03m# Show single model architecture.\u001b[39;00m\n\u001b[1;32m     56\u001b[0m \u001b[38;5;28mprint\u001b[39m(models[\u001b[38;5;241m0\u001b[39m]\u001b[38;5;241m.\u001b[39msummary())\n",
      "Cell \u001b[0;32mIn[15], line 53\u001b[0m, in \u001b[0;36m<listcomp>\u001b[0;34m(.0)\u001b[0m\n\u001b[1;32m     51\u001b[0m \u001b[38;5;66;03m# Building model(s).\u001b[39;00m\n\u001b[1;32m     52\u001b[0m instance_shape \u001b[38;5;241m=\u001b[39m train_data[\u001b[38;5;241m0\u001b[39m][\u001b[38;5;241m0\u001b[39m]\u001b[38;5;241m.\u001b[39mshape\n\u001b[0;32m---> 53\u001b[0m models \u001b[38;5;241m=\u001b[39m [\u001b[43mcreate_model\u001b[49m\u001b[43m(\u001b[49m\u001b[43minstance_shape\u001b[49m\u001b[43m)\u001b[49m \u001b[38;5;28;01mfor\u001b[39;00m _ \u001b[38;5;129;01min\u001b[39;00m \u001b[38;5;28mrange\u001b[39m(ENSEMBLE_AVG_COUNT)]\n\u001b[1;32m     55\u001b[0m \u001b[38;5;66;03m# Show single model architecture.\u001b[39;00m\n\u001b[1;32m     56\u001b[0m \u001b[38;5;28mprint\u001b[39m(models[\u001b[38;5;241m0\u001b[39m]\u001b[38;5;241m.\u001b[39msummary())\n",
      "Cell \u001b[0;32mIn[13], line 15\u001b[0m, in \u001b[0;36mcreate_model\u001b[0;34m(instance_shape)\u001b[0m\n\u001b[1;32m     12\u001b[0m     embeddings\u001b[38;5;241m.\u001b[39mappend(dense_2)\n\u001b[1;32m     14\u001b[0m \u001b[38;5;66;03m# Invoke the attention layer.\u001b[39;00m\n\u001b[0;32m---> 15\u001b[0m alpha \u001b[38;5;241m=\u001b[39m \u001b[43mMILAttentionLayer\u001b[49m\u001b[43m(\u001b[49m\n\u001b[1;32m     16\u001b[0m \u001b[43m    \u001b[49m\u001b[43mweight_params_dim\u001b[49m\u001b[38;5;241;43m=\u001b[39;49m\u001b[38;5;241;43m256\u001b[39;49m\u001b[43m,\u001b[49m\n\u001b[1;32m     17\u001b[0m \u001b[43m    \u001b[49m\u001b[43mkernel_regularizer\u001b[49m\u001b[38;5;241;43m=\u001b[39;49m\u001b[43mkeras\u001b[49m\u001b[38;5;241;43m.\u001b[39;49m\u001b[43mregularizers\u001b[49m\u001b[38;5;241;43m.\u001b[39;49m\u001b[43mL2\u001b[49m\u001b[43m(\u001b[49m\u001b[38;5;241;43m0.01\u001b[39;49m\u001b[43m)\u001b[49m\u001b[43m,\u001b[49m\n\u001b[1;32m     18\u001b[0m \u001b[43m    \u001b[49m\u001b[43muse_gated\u001b[49m\u001b[38;5;241;43m=\u001b[39;49m\u001b[38;5;28;43;01mTrue\u001b[39;49;00m\u001b[43m,\u001b[49m\n\u001b[1;32m     19\u001b[0m \u001b[43m    \u001b[49m\u001b[43mname\u001b[49m\u001b[38;5;241;43m=\u001b[39;49m\u001b[38;5;124;43m\"\u001b[39;49m\u001b[38;5;124;43malpha\u001b[39;49m\u001b[38;5;124;43m\"\u001b[39;49m\u001b[43m,\u001b[49m\n\u001b[1;32m     20\u001b[0m \u001b[43m\u001b[49m\u001b[43m)\u001b[49m\u001b[43m(\u001b[49m\u001b[43membeddings\u001b[49m\u001b[43m)\u001b[49m\n\u001b[1;32m     22\u001b[0m \u001b[38;5;66;03m# Multiply attention weights with the input layers.\u001b[39;00m\n\u001b[1;32m     23\u001b[0m multiply_layers \u001b[38;5;241m=\u001b[39m [\n\u001b[1;32m     24\u001b[0m     layers\u001b[38;5;241m.\u001b[39mmultiply([alpha[i], embeddings[i]]) \u001b[38;5;28;01mfor\u001b[39;00m i \u001b[38;5;129;01min\u001b[39;00m \u001b[38;5;28mrange\u001b[39m(\u001b[38;5;28mlen\u001b[39m(alpha))\n\u001b[1;32m     25\u001b[0m ]\n",
      "File \u001b[0;32m~/Desktop/learning/keras/keras_computer_vision/venv/lib/python3.10/site-packages/keras/src/utils/traceback_utils.py:70\u001b[0m, in \u001b[0;36mfilter_traceback.<locals>.error_handler\u001b[0;34m(*args, **kwargs)\u001b[0m\n\u001b[1;32m     67\u001b[0m     filtered_tb \u001b[38;5;241m=\u001b[39m _process_traceback_frames(e\u001b[38;5;241m.\u001b[39m__traceback__)\n\u001b[1;32m     68\u001b[0m     \u001b[38;5;66;03m# To get the full stack trace, call:\u001b[39;00m\n\u001b[1;32m     69\u001b[0m     \u001b[38;5;66;03m# `tf.debugging.disable_traceback_filtering()`\u001b[39;00m\n\u001b[0;32m---> 70\u001b[0m     \u001b[38;5;28;01mraise\u001b[39;00m e\u001b[38;5;241m.\u001b[39mwith_traceback(filtered_tb) \u001b[38;5;28;01mfrom\u001b[39;00m \u001b[38;5;28;01mNone\u001b[39;00m\n\u001b[1;32m     71\u001b[0m \u001b[38;5;28;01mfinally\u001b[39;00m:\n\u001b[1;32m     72\u001b[0m     \u001b[38;5;28;01mdel\u001b[39;00m filtered_tb\n",
      "File \u001b[0;32m/tmp/__autograph_generated_filemqlbss5_.py:10\u001b[0m, in \u001b[0;36mouter_factory.<locals>.inner_factory.<locals>.tf__call\u001b[0;34m(self, inputs)\u001b[0m\n\u001b[1;32m      8\u001b[0m do_return \u001b[38;5;241m=\u001b[39m \u001b[38;5;28;01mFalse\u001b[39;00m\n\u001b[1;32m      9\u001b[0m retval_ \u001b[38;5;241m=\u001b[39m ag__\u001b[38;5;241m.\u001b[39mUndefinedReturnValue()\n\u001b[0;32m---> 10\u001b[0m instances \u001b[38;5;241m=\u001b[39m [ag__\u001b[38;5;241m.\u001b[39mconverted_call(ag__\u001b[38;5;241m.\u001b[39mld(\u001b[38;5;28mself\u001b[39m)\u001b[38;5;241m.\u001b[39mcompute_attention_scores, (ag__\u001b[38;5;241m.\u001b[39mld(instance),), \u001b[38;5;28;01mNone\u001b[39;00m, fscope) \u001b[38;5;28;01mfor\u001b[39;00m instance \u001b[38;5;129;01min\u001b[39;00m ag__\u001b[38;5;241m.\u001b[39mld(inputs)]\n\u001b[1;32m     11\u001b[0m instances \u001b[38;5;241m=\u001b[39m ag__\u001b[38;5;241m.\u001b[39mconverted_call(ag__\u001b[38;5;241m.\u001b[39mld(tf)\u001b[38;5;241m.\u001b[39mstack, (ag__\u001b[38;5;241m.\u001b[39mld(instances),), \u001b[38;5;28;01mNone\u001b[39;00m, fscope)\n\u001b[1;32m     12\u001b[0m alpha \u001b[38;5;241m=\u001b[39m ag__\u001b[38;5;241m.\u001b[39mconverted_call(ag__\u001b[38;5;241m.\u001b[39mld(tf)\u001b[38;5;241m.\u001b[39msoftmax, (ag__\u001b[38;5;241m.\u001b[39mld(instances),), \u001b[38;5;28mdict\u001b[39m(axis\u001b[38;5;241m=\u001b[39m\u001b[38;5;241m0\u001b[39m), fscope)\n",
      "File \u001b[0;32m/tmp/__autograph_generated_filemqlbss5_.py:10\u001b[0m, in \u001b[0;36m<listcomp>\u001b[0;34m(.0)\u001b[0m\n\u001b[1;32m      8\u001b[0m do_return \u001b[38;5;241m=\u001b[39m \u001b[38;5;28;01mFalse\u001b[39;00m\n\u001b[1;32m      9\u001b[0m retval_ \u001b[38;5;241m=\u001b[39m ag__\u001b[38;5;241m.\u001b[39mUndefinedReturnValue()\n\u001b[0;32m---> 10\u001b[0m instances \u001b[38;5;241m=\u001b[39m [\u001b[43mag__\u001b[49m\u001b[38;5;241;43m.\u001b[39;49m\u001b[43mconverted_call\u001b[49m\u001b[43m(\u001b[49m\u001b[43mag__\u001b[49m\u001b[38;5;241;43m.\u001b[39;49m\u001b[43mld\u001b[49m\u001b[43m(\u001b[49m\u001b[38;5;28;43mself\u001b[39;49m\u001b[43m)\u001b[49m\u001b[38;5;241;43m.\u001b[39;49m\u001b[43mcompute_attention_scores\u001b[49m\u001b[43m,\u001b[49m\u001b[43m \u001b[49m\u001b[43m(\u001b[49m\u001b[43mag__\u001b[49m\u001b[38;5;241;43m.\u001b[39;49m\u001b[43mld\u001b[49m\u001b[43m(\u001b[49m\u001b[43minstance\u001b[49m\u001b[43m)\u001b[49m\u001b[43m,\u001b[49m\u001b[43m)\u001b[49m\u001b[43m,\u001b[49m\u001b[43m \u001b[49m\u001b[38;5;28;43;01mNone\u001b[39;49;00m\u001b[43m,\u001b[49m\u001b[43m \u001b[49m\u001b[43mfscope\u001b[49m\u001b[43m)\u001b[49m \u001b[38;5;28;01mfor\u001b[39;00m instance \u001b[38;5;129;01min\u001b[39;00m ag__\u001b[38;5;241m.\u001b[39mld(inputs)]\n\u001b[1;32m     11\u001b[0m instances \u001b[38;5;241m=\u001b[39m ag__\u001b[38;5;241m.\u001b[39mconverted_call(ag__\u001b[38;5;241m.\u001b[39mld(tf)\u001b[38;5;241m.\u001b[39mstack, (ag__\u001b[38;5;241m.\u001b[39mld(instances),), \u001b[38;5;28;01mNone\u001b[39;00m, fscope)\n\u001b[1;32m     12\u001b[0m alpha \u001b[38;5;241m=\u001b[39m ag__\u001b[38;5;241m.\u001b[39mconverted_call(ag__\u001b[38;5;241m.\u001b[39mld(tf)\u001b[38;5;241m.\u001b[39msoftmax, (ag__\u001b[38;5;241m.\u001b[39mld(instances),), \u001b[38;5;28mdict\u001b[39m(axis\u001b[38;5;241m=\u001b[39m\u001b[38;5;241m0\u001b[39m), fscope)\n",
      "File \u001b[0;32m/tmp/__autograph_generated_filex4k06107.py:27\u001b[0m, in \u001b[0;36mouter_factory.<locals>.inner_factory.<locals>.tf__compute_attention_scores\u001b[0;34m(self, instance)\u001b[0m\n\u001b[1;32m     25\u001b[0m     \u001b[38;5;28;01mnonlocal\u001b[39;00m instance\n\u001b[1;32m     26\u001b[0m     \u001b[38;5;28;01mpass\u001b[39;00m\n\u001b[0;32m---> 27\u001b[0m \u001b[43mag__\u001b[49m\u001b[38;5;241;43m.\u001b[39;49m\u001b[43mif_stmt\u001b[49m\u001b[43m(\u001b[49m\u001b[43mag__\u001b[49m\u001b[38;5;241;43m.\u001b[39;49m\u001b[43mld\u001b[49m\u001b[43m(\u001b[49m\u001b[38;5;28;43mself\u001b[39;49m\u001b[43m)\u001b[49m\u001b[38;5;241;43m.\u001b[39;49m\u001b[43muse_gated\u001b[49m\u001b[43m,\u001b[49m\u001b[43m \u001b[49m\u001b[43mif_body\u001b[49m\u001b[43m,\u001b[49m\u001b[43m \u001b[49m\u001b[43melse_body\u001b[49m\u001b[43m,\u001b[49m\u001b[43m \u001b[49m\u001b[43mget_state\u001b[49m\u001b[43m,\u001b[49m\u001b[43m \u001b[49m\u001b[43mset_state\u001b[49m\u001b[43m,\u001b[49m\u001b[43m \u001b[49m\u001b[43m(\u001b[49m\u001b[38;5;124;43m'\u001b[39;49m\u001b[38;5;124;43minstance\u001b[39;49m\u001b[38;5;124;43m'\u001b[39;49m\u001b[43m,\u001b[49m\u001b[43m)\u001b[49m\u001b[43m,\u001b[49m\u001b[43m \u001b[49m\u001b[38;5;241;43m1\u001b[39;49m\u001b[43m)\u001b[49m\n\u001b[1;32m     28\u001b[0m \u001b[38;5;28;01mtry\u001b[39;00m:\n\u001b[1;32m     29\u001b[0m     do_return \u001b[38;5;241m=\u001b[39m \u001b[38;5;28;01mTrue\u001b[39;00m\n",
      "File \u001b[0;32m/tmp/__autograph_generated_filex4k06107.py:22\u001b[0m, in \u001b[0;36mouter_factory.<locals>.inner_factory.<locals>.tf__compute_attention_scores.<locals>.if_body\u001b[0;34m()\u001b[0m\n\u001b[1;32m     20\u001b[0m \u001b[38;5;28;01mdef\u001b[39;00m \u001b[38;5;21mif_body\u001b[39m():\n\u001b[1;32m     21\u001b[0m     \u001b[38;5;28;01mnonlocal\u001b[39;00m instance\n\u001b[0;32m---> 22\u001b[0m     instance \u001b[38;5;241m=\u001b[39m ag__\u001b[38;5;241m.\u001b[39mld(instance) \u001b[38;5;241m*\u001b[39m ag__\u001b[38;5;241m.\u001b[39mconverted_call(ag__\u001b[38;5;241m.\u001b[39mld(tf)\u001b[38;5;241m.\u001b[39msigmoid, (ag__\u001b[38;5;241m.\u001b[39mconverted_call(ag__\u001b[38;5;241m.\u001b[39mld(\u001b[43mopstf\u001b[49m)\u001b[38;5;241m.\u001b[39mtensordot, (ag__\u001b[38;5;241m.\u001b[39mld(original_instance), ag__\u001b[38;5;241m.\u001b[39mld(\u001b[38;5;28mself\u001b[39m)\u001b[38;5;241m.\u001b[39mu_weight_params), \u001b[38;5;28mdict\u001b[39m(axes\u001b[38;5;241m=\u001b[39m\u001b[38;5;241m1\u001b[39m), fscope),), \u001b[38;5;28;01mNone\u001b[39;00m, fscope)\n",
      "\u001b[0;31mNameError\u001b[0m: Exception encountered when calling layer \"alpha\" (type MILAttentionLayer).\n\nin user code:\n\n    File \"/tmp/ipykernel_14658/2678633605.py\", line 75, in call  *\n        instances = [self.compute_attention_scores(instance) for instance in inputs]\n    File \"/tmp/ipykernel_14658/2678633605.py\", line 95, in compute_attention_scores  *\n        instance = instance * tf.sigmoid(\n\n    NameError: name 'opstf' is not defined\n\n\nCall arguments received by layer \"alpha\" (type MILAttentionLayer):\n  • inputs=['tf.Tensor(shape=(None, 64), dtype=float32)', 'tf.Tensor(shape=(None, 64), dtype=float32)', 'tf.Tensor(shape=(None, 64), dtype=float32)']"
     ]
    }
   ],
   "source": [
    "\n",
    "def train(train_data, train_labels, val_data, val_labels, model):\n",
    "    # Train model.\n",
    "    # Prepare callbacks.\n",
    "    # Path where to save best weights.\n",
    "\n",
    "    # Take the file name from the wrapper.\n",
    "    file_path = \"/tmp/best_model.weights.h5\"\n",
    "\n",
    "    # Initialize model checkpoint callback.\n",
    "    model_checkpoint = keras.callbacks.ModelCheckpoint(\n",
    "        file_path,\n",
    "        monitor=\"val_loss\",\n",
    "        verbose=0,\n",
    "        mode=\"min\",\n",
    "        save_best_only=True,\n",
    "        save_weights_only=True,\n",
    "    )\n",
    "\n",
    "    # Initialize early stopping callback.\n",
    "    # The model performance is monitored across the validation data and stops training\n",
    "    # when the generalization error cease to decrease.\n",
    "    early_stopping = keras.callbacks.EarlyStopping(\n",
    "        monitor=\"val_loss\", patience=10, mode=\"min\"\n",
    "    )\n",
    "\n",
    "    # Compile model.\n",
    "    model.compile(\n",
    "        optimizer=\"adam\",\n",
    "        loss=\"sparse_categorical_crossentropy\",\n",
    "        metrics=[\"accuracy\"],\n",
    "    )\n",
    "\n",
    "    # Fit model.\n",
    "    model.fit(\n",
    "        train_data,\n",
    "        train_labels,\n",
    "        validation_data=(val_data, val_labels),\n",
    "        epochs=20,\n",
    "        class_weight=compute_class_weights(train_labels),\n",
    "        batch_size=1,\n",
    "        callbacks=[early_stopping, model_checkpoint],\n",
    "        verbose=0,\n",
    "    )\n",
    "\n",
    "    # Load best weights.\n",
    "    model.load_weights(file_path)\n",
    "\n",
    "    return model\n",
    "\n",
    "\n",
    "# Building model(s).\n",
    "instance_shape = train_data[0][0].shape\n",
    "models = [create_model(instance_shape) for _ in range(ENSEMBLE_AVG_COUNT)]\n",
    "\n",
    "# Show single model architecture.\n",
    "print(models[0].summary())\n",
    "\n",
    "# Training model(s).\n",
    "trained_models = [\n",
    "    train(train_data, train_labels, val_data, val_labels, model)\n",
    "    for model in tqdm(models)\n",
    "]"
   ]
  },
  {
   "cell_type": "markdown",
   "metadata": {
    "id": "ECRPWN_SXHae"
   },
   "source": [
    "## Model evaluation\n",
    "\n",
    "The models are now ready for evaluation.\n",
    "With each model we also create an associated intermediate model to get the\n",
    "weights from the attention layer.\n",
    "\n",
    "We will compute a prediction for each of our `ENSEMBLE_AVG_COUNT` models, and\n",
    "average them together for our final prediction."
   ]
  },
  {
   "cell_type": "code",
   "execution_count": null,
   "metadata": {
    "id": "a70d0D0aXHae"
   },
   "outputs": [],
   "source": [
    "\n",
    "def predict(data, labels, trained_models):\n",
    "    # Collect info per model.\n",
    "    models_predictions = []\n",
    "    models_attention_weights = []\n",
    "    models_losses = []\n",
    "    models_accuracies = []\n",
    "\n",
    "    for model in trained_models:\n",
    "        # Predict output classes on data.\n",
    "        predictions = model.predict(data)\n",
    "        models_predictions.append(predictions)\n",
    "\n",
    "        # Create intermediate model to get MIL attention layer weights.\n",
    "        intermediate_model = keras.Model(model.input, model.get_layer(\"alpha\").output)\n",
    "\n",
    "        # Predict MIL attention layer weights.\n",
    "        intermediate_predictions = intermediate_model.predict(data)\n",
    "\n",
    "        attention_weights = np.squeeze(np.swapaxes(intermediate_predictions, 1, 0))\n",
    "        models_attention_weights.append(attention_weights)\n",
    "\n",
    "        loss, accuracy = model.evaluate(data, labels, verbose=0)\n",
    "        models_losses.append(loss)\n",
    "        models_accuracies.append(accuracy)\n",
    "\n",
    "    print(\n",
    "        f\"The average loss and accuracy are {np.sum(models_losses, axis=0) / ENSEMBLE_AVG_COUNT:.2f}\"\n",
    "        f\" and {100 * np.sum(models_accuracies, axis=0) / ENSEMBLE_AVG_COUNT:.2f} % resp.\"\n",
    "    )\n",
    "\n",
    "    return (\n",
    "        np.sum(models_predictions, axis=0) / ENSEMBLE_AVG_COUNT,\n",
    "        np.sum(models_attention_weights, axis=0) / ENSEMBLE_AVG_COUNT,\n",
    "    )\n",
    "\n",
    "\n",
    "# Evaluate and predict classes and attention scores on validation data.\n",
    "class_predictions, attention_params = predict(val_data, val_labels, trained_models)\n",
    "\n",
    "# Plot some results from our validation data.\n",
    "plot(\n",
    "    val_data,\n",
    "    val_labels,\n",
    "    \"positive\",\n",
    "    predictions=class_predictions,\n",
    "    attention_weights=attention_params,\n",
    ")\n",
    "plot(\n",
    "    val_data,\n",
    "    val_labels,\n",
    "    \"negative\",\n",
    "    predictions=class_predictions,\n",
    "    attention_weights=attention_params,\n",
    ")"
   ]
  },
  {
   "cell_type": "markdown",
   "metadata": {
    "id": "RBPWWFtEXHae"
   },
   "source": [
    "## Conclusion\n",
    "\n",
    "From the above plot, you can notice that the weights always sum to 1. In a\n",
    "positively predict bag, the instance which resulted in the positive labeling will have\n",
    "a substantially higher attention score than the rest of the bag. However, in a negatively\n",
    "predicted bag, there are two cases:\n",
    "\n",
    "* All instances will have approximately similar scores.\n",
    "* An instance will have relatively higher score (but not as high as of a positive instance).\n",
    "This is because the feature space of this instance is close to that of the positive instance.\n",
    "\n",
    "## Remarks\n",
    "\n",
    "- If the model is overfit, the weights will be equally distributed for all bags. Hence,\n",
    "the regularization techniques are necessary.\n",
    "- In the paper, the bag sizes can differ from one bag to another. For simplicity, the\n",
    "bag sizes are fixed here.\n",
    "- In order not to rely on the random initial weights of a single model, averaging ensemble\n",
    "methods should be considered."
   ]
  }
 ],
 "metadata": {
  "accelerator": "GPU",
  "colab": {
   "name": "attention_mil_classification",
   "provenance": [],
   "toc_visible": true
  },
  "kernelspec": {
   "display_name": "Python 3 (ipykernel)",
   "language": "python",
   "name": "python3"
  },
  "language_info": {
   "codemirror_mode": {
    "name": "ipython",
    "version": 3
   },
   "file_extension": ".py",
   "mimetype": "text/x-python",
   "name": "python",
   "nbconvert_exporter": "python",
   "pygments_lexer": "ipython3",
   "version": "3.10.12"
  }
 },
 "nbformat": 4,
 "nbformat_minor": 4
}
